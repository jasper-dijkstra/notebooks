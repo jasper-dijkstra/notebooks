{
 "cells": [
  {
   "cell_type": "code",
   "execution_count": 3,
   "metadata": {},
   "outputs": [],
   "source": [
    "%matplotlib inline\n",
    "\n",
    "import geopandas as gpd\n",
    "import matplotlib.pyplot as plt\n",
    "import numpy as np\n",
    "import pandas as pd\n",
    "\n",
    "from sentinelhub import (\n",
    "    CRS,\n",
    "    BBox,\n",
    "    DataCollection,\n",
    "    Geometry,\n",
    "    SentinelHubStatistical,\n",
    "    SentinelHubStatisticalDownloadClient,\n",
    "    SHConfig,\n",
    "    parse_time,\n",
    ")"
   ]
  },
  {
   "cell_type": "code",
   "execution_count": 15,
   "metadata": {},
   "outputs": [],
   "source": [
    "config = SHConfig(\"pip\")\n",
    "byoc_id = \"ccb1f8f0-e5bf-4c31-afe5-d8803bcbde2a\""
   ]
  },
  {
   "cell_type": "code",
   "execution_count": 6,
   "metadata": {},
   "outputs": [],
   "source": [
    "# load polygons.geojson file\n",
    "polygons = gpd.read_file(\"polygons.geojson\")"
   ]
  },
  {
   "cell_type": "code",
   "execution_count": 25,
   "metadata": {},
   "outputs": [],
   "source": [
    "bounds = BBox(polygons.geometry[0].bounds, CRS.WGS84)\n",
    "\n",
    "rgb_evalscript = \"\"\"\n",
    "//VERSION=3\n",
    "\n",
    "function setup() {\n",
    "  return {\n",
    "    input: [\n",
    "      {\n",
    "        bands: [\n",
    "          \"coastal_blue\",\n",
    "          \"blue\",\n",
    "          \"green_i\",\n",
    "          \"green\",\n",
    "          \"yellow\",\n",
    "          \"red\",\n",
    "          \"rededge\",\n",
    "          \"nir\",\n",
    "          \"dataMask\"\n",
    "        ]\n",
    "      }\n",
    "    ],\n",
    "    output: [\n",
    "      {\n",
    "        id: \"rgb\",\n",
    "        bands: [\n",
    "          \"coastal_blue\",\n",
    "          \"blue\",\n",
    "          \"green_i\",\n",
    "          \"green\",\n",
    "          \"yellow\",\n",
    "          \"red\",\n",
    "          \"rededge\",\n",
    "          \"nir\"\n",
    "        ]\n",
    "      },\n",
    "      {\n",
    "        id: \"dataMask\",\n",
    "        bands: 1\n",
    "      }\n",
    "    ]\n",
    "  }\n",
    "}\n",
    "\n",
    "function evaluatePixel(samples) {\n",
    "    return {\n",
    "      rgb: [\n",
    "        samples.coastal_blue,\n",
    "        samples.blue,\n",
    "        samples.green_i,\n",
    "        samples.green,\n",
    "        samples.yellow,\n",
    "        samples.red,\n",
    "        samples.rededge,\n",
    "        samples.nir\n",
    "      ],\n",
    "      dataMask: [samples.dataMask]\n",
    "    };\n",
    "}\n",
    "\"\"\"\n",
    "requests = []\n",
    "\n",
    "for geo_shape in polygons.geometry.values:\n",
    "  bounds = BBox(geo_shape.bounds, CRS.WGS84)\n",
    "  request = SentinelHubStatistical(\n",
    "    aggregation=SentinelHubStatistical.aggregation(\n",
    "        evalscript=rgb_evalscript,\n",
    "        time_interval=(\"2022-05-01\", \"2023-05-01\"),\n",
    "        aggregation_interval=\"P1M\",\n",
    "        size=(512, 512),\n",
    "    ),\n",
    "    input_data=[SentinelHubStatistical.input_data(DataCollection.define_byoc(byoc_id))],\n",
    "    bbox=bounds,\n",
    "    config=config,\n",
    "  )\n",
    "  requests.append(request)\n"
   ]
  },
  {
   "cell_type": "code",
   "execution_count": 28,
   "metadata": {},
   "outputs": [],
   "source": [
    "download_requests = [request.download_list[0] for request in requests]\n",
    "\n",
    "client = SentinelHubStatisticalDownloadClient(config=config)\n",
    "\n",
    "stats = client.download(download_requests)"
   ]
  },
  {
   "cell_type": "code",
   "execution_count": 66,
   "metadata": {},
   "outputs": [],
   "source": [
    "df = pd.json_normalize([stat[\"data\"][0] for stat in stats])\n",
    "df = df[[column for column in df.columns if column.endswith((\"mean\", \"stDev\"))]]"
   ]
  },
  {
   "cell_type": "code",
   "execution_count": 71,
   "metadata": {},
   "outputs": [
    {
     "data": {
      "text/plain": [
       "outputs.rgb.bands.coastal_blue.stats.mean     1720.914975\n",
       "outputs.rgb.bands.coastal_blue.stats.stDev     747.259017\n",
       "outputs.rgb.bands.blue.stats.mean             1715.600931\n",
       "outputs.rgb.bands.blue.stats.stDev             698.575382\n",
       "outputs.rgb.bands.green_i.stats.mean          1913.451187\n",
       "outputs.rgb.bands.green_i.stats.stDev          739.039452\n",
       "outputs.rgb.bands.green.stats.mean            2088.540235\n",
       "outputs.rgb.bands.green.stats.stDev            768.436933\n",
       "outputs.rgb.bands.yellow.stats.mean           2274.610611\n",
       "outputs.rgb.bands.yellow.stats.stDev           849.646913\n",
       "outputs.rgb.bands.red.stats.mean              2290.037877\n",
       "outputs.rgb.bands.red.stats.stDev              868.948089\n",
       "outputs.rgb.bands.rededge.stats.mean          2613.193389\n",
       "outputs.rgb.bands.rededge.stats.stDev          849.233234\n",
       "outputs.rgb.bands.nir.stats.mean              3970.674317\n",
       "outputs.rgb.bands.nir.stats.stDev              914.576073\n",
       "dtype: float64"
      ]
     },
     "execution_count": 71,
     "metadata": {},
     "output_type": "execute_result"
    }
   ],
   "source": [
    "band_stats = df.mean()\n",
    "band_stats"
   ]
  },
  {
   "cell_type": "code",
   "execution_count": 77,
   "metadata": {},
   "outputs": [
    {
     "data": {
      "text/plain": [
       "{'coastal_blue': 1720.9149748636517,\n",
       " 'blue': 1715.6009309663668,\n",
       " 'green_i': 1913.451186699416,\n",
       " 'green': 2088.540234590639,\n",
       " 'yellow': 2274.6106106078814,\n",
       " 'red': 2290.0378766752215,\n",
       " 'rededge': 2613.193388683956,\n",
       " 'nir': 3970.6743174860667}"
      ]
     },
     "execution_count": 77,
     "metadata": {},
     "output_type": "execute_result"
    }
   ],
   "source": [
    "# select all elements in band_stats that end with .mean\n",
    "means = band_stats[band_stats.index.str.endswith(\".mean\")]\n",
    "means.index = means.index.str.split(\".\").str[-3]\n",
    "dict(means)"
   ]
  },
  {
   "cell_type": "code",
   "execution_count": 79,
   "metadata": {},
   "outputs": [
    {
     "data": {
      "text/plain": [
       "{'coastal_blue': 747.2590169771133,\n",
       " 'blue': 698.5753822151314,\n",
       " 'green_i': 739.0394519018009,\n",
       " 'green': 768.4369332722395,\n",
       " 'yellow': 849.6469129759253,\n",
       " 'red': 868.9480887199492,\n",
       " 'rededge': 849.2332344248075,\n",
       " 'nir': 914.5760734235755}"
      ]
     },
     "execution_count": 79,
     "metadata": {},
     "output_type": "execute_result"
    }
   ],
   "source": [
    "# select all elements in band_stats that end with .stDev\n",
    "stds = band_stats[band_stats.index.str.endswith(\".stDev\")]\n",
    "stds.index = stds.index.str.split(\".\").str[-3]\n",
    "dict(stds)"
   ]
  }
 ],
 "metadata": {
  "kernelspec": {
   "display_name": "Python 3",
   "language": "python",
   "name": "python3"
  },
  "language_info": {
   "codemirror_mode": {
    "name": "ipython",
    "version": 3
   },
   "file_extension": ".py",
   "mimetype": "text/x-python",
   "name": "python",
   "nbconvert_exporter": "python",
   "pygments_lexer": "ipython3",
   "version": "3.11.4"
  }
 },
 "nbformat": 4,
 "nbformat_minor": 2
}
